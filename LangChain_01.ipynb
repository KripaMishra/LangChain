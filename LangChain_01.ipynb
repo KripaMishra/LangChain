{
  "nbformat": 4,
  "nbformat_minor": 0,
  "metadata": {
    "colab": {
      "provenance": [],
      "authorship_tag": "ABX9TyPvQDma9C8Qi4BxqjYdUl/a",
      "include_colab_link": true
    },
    "kernelspec": {
      "name": "python3",
      "display_name": "Python 3"
    },
    "language_info": {
      "name": "python"
    }
  },
  "cells": [
    {
      "cell_type": "markdown",
      "metadata": {
        "id": "view-in-github",
        "colab_type": "text"
      },
      "source": [
        "<a href=\"https://colab.research.google.com/github/KripaMishra/LangChain/blob/main/LangChain_01.ipynb\" target=\"_parent\"><img src=\"https://colab.research.google.com/assets/colab-badge.svg\" alt=\"Open In Colab\"/></a>"
      ]
    },
    {
      "cell_type": "code",
      "execution_count": 1,
      "metadata": {
        "colab": {
          "base_uri": "https://localhost:8080/"
        },
        "id": "BfvIh9ZI11T3",
        "outputId": "c648f268-a369-4f6f-c933-5e40a77274d6"
      },
      "outputs": [
        {
          "output_type": "stream",
          "name": "stdout",
          "text": [
            "\u001b[2K     \u001b[90m━━━━━━━━━━━━━━━━━━━━━━━━━━━━━━━━━━━━━━━━\u001b[0m \u001b[32m273.0/273.0 kB\u001b[0m \u001b[31m2.1 MB/s\u001b[0m eta \u001b[36m0:00:00\u001b[0m\n",
            "\u001b[2K     \u001b[90m━━━━━━━━━━━━━━━━━━━━━━━━━━━━━━━━━━━━━━━━\u001b[0m \u001b[32m1.8/1.8 MB\u001b[0m \u001b[31m17.2 MB/s\u001b[0m eta \u001b[36m0:00:00\u001b[0m\n",
            "\u001b[2K     \u001b[90m━━━━━━━━━━━━━━━━━━━━━━━━━━━━━━━━━━━━━━━━\u001b[0m \u001b[32m86.9/86.9 kB\u001b[0m \u001b[31m6.5 MB/s\u001b[0m eta \u001b[36m0:00:00\u001b[0m\n",
            "\u001b[2K     \u001b[90m━━━━━━━━━━━━━━━━━━━━━━━━━━━━━━━━━━━━━━━━\u001b[0m \u001b[32m53.0/53.0 kB\u001b[0m \u001b[31m3.2 MB/s\u001b[0m eta \u001b[36m0:00:00\u001b[0m\n",
            "\u001b[2K     \u001b[90m━━━━━━━━━━━━━━━━━━━━━━━━━━━━━━━━━━━━━━━━\u001b[0m \u001b[32m262.9/262.9 kB\u001b[0m \u001b[31m13.4 MB/s\u001b[0m eta \u001b[36m0:00:00\u001b[0m\n",
            "\u001b[2K     \u001b[90m━━━━━━━━━━━━━━━━━━━━━━━━━━━━━━━━━━━━━━━━\u001b[0m \u001b[32m1.8/1.8 MB\u001b[0m \u001b[31m38.5 MB/s\u001b[0m eta \u001b[36m0:00:00\u001b[0m\n",
            "\u001b[2K     \u001b[90m━━━━━━━━━━━━━━━━━━━━━━━━━━━━━━━━━━━━━━━━\u001b[0m \u001b[32m49.4/49.4 kB\u001b[0m \u001b[31m3.5 MB/s\u001b[0m eta \u001b[36m0:00:00\u001b[0m\n",
            "\u001b[2K     \u001b[90m━━━━━━━━━━━━━━━━━━━━━━━━━━━━━━━━━━━━━━━━\u001b[0m \u001b[32m144.8/144.8 kB\u001b[0m \u001b[31m4.2 MB/s\u001b[0m eta \u001b[36m0:00:00\u001b[0m\n",
            "\u001b[2K     \u001b[90m━━━━━━━━━━━━━━━━━━━━━━━━━━━━━━━━━━━━━━━━\u001b[0m \u001b[32m75.6/75.6 kB\u001b[0m \u001b[31m6.6 MB/s\u001b[0m eta \u001b[36m0:00:00\u001b[0m\n",
            "\u001b[2K     \u001b[90m━━━━━━━━━━━━━━━━━━━━━━━━━━━━━━━━━━━━━━━━\u001b[0m \u001b[32m77.9/77.9 kB\u001b[0m \u001b[31m4.7 MB/s\u001b[0m eta \u001b[36m0:00:00\u001b[0m\n",
            "\u001b[2K     \u001b[90m━━━━━━━━━━━━━━━━━━━━━━━━━━━━━━━━━━━━━━━━\u001b[0m \u001b[32m58.3/58.3 kB\u001b[0m \u001b[31m3.5 MB/s\u001b[0m eta \u001b[36m0:00:00\u001b[0m\n",
            "\u001b[?25h"
          ]
        }
      ],
      "source": [
        "%pip install --upgrade --quiet  langchain-core langchain-community langchain-openai"
      ]
    },
    {
      "cell_type": "code",
      "source": [
        "import os"
      ],
      "metadata": {
        "colab": {
          "base_uri": "https://localhost:8080/"
        },
        "id": "AaJ8ov8q3NSv",
        "outputId": "da89d6dc-e547-4911-d7d5-6031a048e63f"
      },
      "execution_count": 6,
      "outputs": [
        {
          "output_type": "stream",
          "name": "stdout",
          "text": [
            "Collecting python-dotenv\n",
            "  Downloading python_dotenv-1.0.1-py3-none-any.whl (19 kB)\n",
            "Installing collected packages: python-dotenv\n",
            "Successfully installed python-dotenv-1.0.1\n"
          ]
        }
      ]
    },
    {
      "cell_type": "code",
      "source": [
        "from google.colab import userdata\n",
        "\n",
        "# Access the secret data using its name\n",
        "my_secret_data = userdata.get(\"OPENAI_API_KEY\")\n"
      ],
      "metadata": {
        "id": "2dWaiaS34b8m"
      },
      "execution_count": 11,
      "outputs": []
    },
    {
      "cell_type": "code",
      "source": [
        "from langchain_core.output_parsers import StrOutputParser\n",
        "from langchain_core.prompts import ChatPromptTemplate\n",
        "from langchain_openai import ChatOpenAI\n",
        "\n",
        "prompt = ChatPromptTemplate.from_template(\"tell me a short joke about {topic}\")\n",
        "model = ChatOpenAI(model=\"gpt-3.5-turbo-0125\", openai_api_key=my_secret_data)\n",
        "output_parser = StrOutputParser()\n",
        "\n",
        "chain = prompt | model | output_parser\n",
        "\n",
        "chain.invoke({\"topic\": \"ice cream\"})"
      ],
      "metadata": {
        "colab": {
          "base_uri": "https://localhost:8080/",
          "height": 35
        },
        "id": "F8Zlil9d2dZK",
        "outputId": "a7291788-1503-4d51-f78a-4f829c1bb256"
      },
      "execution_count": 15,
      "outputs": [
        {
          "output_type": "execute_result",
          "data": {
            "text/plain": [
              "\"Why did the ice cream truck break down? It couldn't take the choco-lotta pressure!\""
            ],
            "application/vnd.google.colaboratory.intrinsic+json": {
              "type": "string"
            }
          },
          "metadata": {},
          "execution_count": 15
        }
      ]
    },
    {
      "cell_type": "markdown",
      "source": [
        "The prompt is a base template which takes in a dictionary of variables and then generates an output known as prompt value. This prompt value is complete and it can be fed to a LLM or a chat model.\n",
        "\n",
        "Note: the difference between a chat model and LLM is that prior takes a sequence of messages as input while latter takes in a string."
      ],
      "metadata": {
        "id": "ttgkNW7q6RvD"
      }
    },
    {
      "cell_type": "code",
      "source": [
        "prompt_value=prompt.invoke({'topic': 'ice cream'})\n",
        "prompt_value"
      ],
      "metadata": {
        "colab": {
          "base_uri": "https://localhost:8080/"
        },
        "id": "WIlAuGc-224Z",
        "outputId": "8a68654d-d011-4ca5-d601-b8e3dd5bff0f"
      },
      "execution_count": 16,
      "outputs": [
        {
          "output_type": "execute_result",
          "data": {
            "text/plain": [
              "ChatPromptValue(messages=[HumanMessage(content='tell me a short joke about ice cream')])"
            ]
          },
          "metadata": {},
          "execution_count": 16
        }
      ]
    },
    {
      "cell_type": "code",
      "source": [
        "prompt_value.to_messages()"
      ],
      "metadata": {
        "colab": {
          "base_uri": "https://localhost:8080/"
        },
        "id": "SPgBDOBG5ph9",
        "outputId": "b9e5e666-14eb-4411-aaa5-a630c3dc3608"
      },
      "execution_count": 17,
      "outputs": [
        {
          "output_type": "execute_result",
          "data": {
            "text/plain": [
              "[HumanMessage(content='tell me a short joke about ice cream')]"
            ]
          },
          "metadata": {},
          "execution_count": 17
        }
      ]
    },
    {
      "cell_type": "code",
      "source": [
        "prompt_value.to_string()"
      ],
      "metadata": {
        "colab": {
          "base_uri": "https://localhost:8080/",
          "height": 35
        },
        "id": "zj5cWST355U7",
        "outputId": "c07e348a-ea23-45b1-eca2-be0e1fc1da4c"
      },
      "execution_count": 18,
      "outputs": [
        {
          "output_type": "execute_result",
          "data": {
            "text/plain": [
              "'Human: tell me a short joke about ice cream'"
            ],
            "application/vnd.google.colaboratory.intrinsic+json": {
              "type": "string"
            }
          },
          "metadata": {},
          "execution_count": 18
        }
      ]
    },
    {
      "cell_type": "code",
      "source": [
        "message = model.invoke(prompt_value)\n",
        "message"
      ],
      "metadata": {
        "colab": {
          "base_uri": "https://localhost:8080/"
        },
        "id": "gF-lS-qW55Sw",
        "outputId": "42190640-95be-45bc-aac5-1bf97369d87c"
      },
      "execution_count": 19,
      "outputs": [
        {
          "output_type": "execute_result",
          "data": {
            "text/plain": [
              "AIMessage(content='Why did the ice cream cone go to therapy? Because it had too many sprinkles of emotional issues!', response_metadata={'token_usage': {'completion_tokens': 21, 'prompt_tokens': 15, 'total_tokens': 36}, 'model_name': 'gpt-3.5-turbo-0125', 'system_fingerprint': 'fp_3bc1b5746c', 'finish_reason': 'stop', 'logprobs': None})"
            ]
          },
          "metadata": {},
          "execution_count": 19
        }
      ]
    },
    {
      "cell_type": "markdown",
      "source": [
        "### Note here that here the output is a dictonary with a lots of keys and values, if the model was a LLM model instead of a chat model then the output would be a string only"
      ],
      "metadata": {
        "id": "BHe3PsK67VPy"
      }
    },
    {
      "cell_type": "code",
      "source": [
        "message.content"
      ],
      "metadata": {
        "colab": {
          "base_uri": "https://localhost:8080/",
          "height": 35
        },
        "id": "NEqDlifG55QW",
        "outputId": "c457f363-4ac5-43e4-85a1-adc25c72fd1f"
      },
      "execution_count": 20,
      "outputs": [
        {
          "output_type": "execute_result",
          "data": {
            "text/plain": [
              "'Why did the ice cream cone go to therapy? Because it had too many sprinkles of emotional issues!'"
            ],
            "application/vnd.google.colaboratory.intrinsic+json": {
              "type": "string"
            }
          },
          "metadata": {},
          "execution_count": 20
        }
      ]
    },
    {
      "cell_type": "code",
      "source": [
        "from langchain_openai import OpenAI\n",
        "\n",
        "llm = OpenAI(model=\"gpt-3.5-turbo-instruct\", openai_api_key=my_secret_data)\n",
        "llm.invoke(prompt_value)"
      ],
      "metadata": {
        "colab": {
          "base_uri": "https://localhost:8080/",
          "height": 35
        },
        "id": "fNgn-JEq55N_",
        "outputId": "e260dc40-2a7b-43e8-d1a2-dd9e97c749fe"
      },
      "execution_count": 23,
      "outputs": [
        {
          "output_type": "execute_result",
          "data": {
            "text/plain": [
              "'\\n\\nWhy did the ice cream go to the doctor? Because it was feeling a little rocky road.'"
            ],
            "application/vnd.google.colaboratory.intrinsic+json": {
              "type": "string"
            }
          },
          "metadata": {},
          "execution_count": 23
        }
      ]
    },
    {
      "cell_type": "markdown",
      "source": [
        "Here the output is a string of values instead of dictonary"
      ],
      "metadata": {
        "id": "bh2RY2Li79jJ"
      }
    },
    {
      "cell_type": "markdown",
      "source": [
        "To maintain the consitency we will use the output parser which will convert the output whether string or dictonary into a simplified string output"
      ],
      "metadata": {
        "id": "mQxkCBwd8StR"
      }
    },
    {
      "cell_type": "code",
      "source": [
        "output_parser.invoke(message)"
      ],
      "metadata": {
        "colab": {
          "base_uri": "https://localhost:8080/",
          "height": 35
        },
        "id": "QqUDy5AP8QxR",
        "outputId": "f65c55b3-264d-4def-bc80-61146dad844d"
      },
      "execution_count": 24,
      "outputs": [
        {
          "output_type": "execute_result",
          "data": {
            "text/plain": [
              "'Why did the ice cream cone go to therapy? Because it had too many sprinkles of emotional issues!'"
            ],
            "application/vnd.google.colaboratory.intrinsic+json": {
              "type": "string"
            }
          },
          "metadata": {},
          "execution_count": 24
        }
      ]
    },
    {
      "cell_type": "markdown",
      "source": [
        "# Entire Pipeline\n",
        "\n",
        "\n",
        "*   Pass the user input on the desired topic as `{'topic':\"your input\"}`\n",
        "\n",
        "*   The prompt component then takes in the value of topic and creates a PromptValue.\n",
        "\n",
        "*   The model component takes the generated prompt, and passes into the OpenAI LLM model for evaluation. The generated output from the model is a ChatMessage object.\n",
        "*  \n",
        "Finally, the output_parser component takes in a ChatMessage, and transforms this into a Python string, which is returned from the invoke method\n",
        "\n",
        "\n"
      ],
      "metadata": {
        "id": "zSMCrsWK8r3o"
      }
    },
    {
      "cell_type": "markdown",
      "source": [
        "![image.png](data:image/png;base64,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)"
      ],
      "metadata": {
        "id": "n2qYIqCY9nSP"
      }
    },
    {
      "cell_type": "code",
      "source": [
        "input={'topic': 'Banana'}"
      ],
      "metadata": {
        "id": "JFJDvZFy55Lo"
      },
      "execution_count": 25,
      "outputs": []
    },
    {
      "cell_type": "code",
      "source": [
        "prompt.invoke(input)"
      ],
      "metadata": {
        "colab": {
          "base_uri": "https://localhost:8080/"
        },
        "id": "CVSabKG255JU",
        "outputId": "c4aafe36-2e03-4f65-e58b-b467db8baebd"
      },
      "execution_count": 26,
      "outputs": [
        {
          "output_type": "execute_result",
          "data": {
            "text/plain": [
              "ChatPromptValue(messages=[HumanMessage(content='tell me a short joke about Banana')])"
            ]
          },
          "metadata": {},
          "execution_count": 26
        }
      ]
    },
    {
      "cell_type": "markdown",
      "source": [
        "Using the | we have chained multiple components together"
      ],
      "metadata": {
        "id": "AGqPCBR--NwW"
      }
    },
    {
      "cell_type": "code",
      "source": [
        "(prompt|model|output_parser).invoke(input)"
      ],
      "metadata": {
        "colab": {
          "base_uri": "https://localhost:8080/",
          "height": 35
        },
        "id": "icHyUIeK55G9",
        "outputId": "3b7fefda-87a7-4751-cdea-bc0489298ad4"
      },
      "execution_count": 28,
      "outputs": [
        {
          "output_type": "execute_result",
          "data": {
            "text/plain": [
              "\"Why did the banana go to the doctor?\\nBecause it wasn't peeling well!\""
            ],
            "application/vnd.google.colaboratory.intrinsic+json": {
              "type": "string"
            }
          },
          "metadata": {},
          "execution_count": 28
        }
      ]
    },
    {
      "cell_type": "markdown",
      "source": [
        "# RAG Search Example"
      ],
      "metadata": {
        "id": "_EcNvgzxCJcK"
      }
    },
    {
      "cell_type": "code",
      "source": [
        "!pip install langchain docarray tiktoken"
      ],
      "metadata": {
        "colab": {
          "base_uri": "https://localhost:8080/"
        },
        "id": "Tx2rgB4b55Ec",
        "outputId": "68153bc5-5e37-45b2-c4e2-cf736a82c083"
      },
      "execution_count": 29,
      "outputs": [
        {
          "output_type": "stream",
          "name": "stdout",
          "text": [
            "Collecting langchain\n",
            "  Downloading langchain-0.1.13-py3-none-any.whl (810 kB)\n",
            "\u001b[2K     \u001b[90m━━━━━━━━━━━━━━━━━━━━━━━━━━━━━━━━━━━━━━━━\u001b[0m \u001b[32m810.5/810.5 kB\u001b[0m \u001b[31m5.3 MB/s\u001b[0m eta \u001b[36m0:00:00\u001b[0m\n",
            "\u001b[?25hCollecting docarray\n",
            "  Downloading docarray-0.40.0-py3-none-any.whl (270 kB)\n",
            "\u001b[2K     \u001b[90m━━━━━━━━━━━━━━━━━━━━━━━━━━━━━━━━━━━━━━━━\u001b[0m \u001b[32m270.2/270.2 kB\u001b[0m \u001b[31m25.3 MB/s\u001b[0m eta \u001b[36m0:00:00\u001b[0m\n",
            "\u001b[?25hRequirement already satisfied: tiktoken in /usr/local/lib/python3.10/dist-packages (0.6.0)\n",
            "Requirement already satisfied: PyYAML>=5.3 in /usr/local/lib/python3.10/dist-packages (from langchain) (6.0.1)\n",
            "Requirement already satisfied: SQLAlchemy<3,>=1.4 in /usr/local/lib/python3.10/dist-packages (from langchain) (2.0.29)\n",
            "Requirement already satisfied: aiohttp<4.0.0,>=3.8.3 in /usr/local/lib/python3.10/dist-packages (from langchain) (3.9.3)\n",
            "Requirement already satisfied: async-timeout<5.0.0,>=4.0.0 in /usr/local/lib/python3.10/dist-packages (from langchain) (4.0.3)\n",
            "Requirement already satisfied: dataclasses-json<0.7,>=0.5.7 in /usr/local/lib/python3.10/dist-packages (from langchain) (0.6.4)\n",
            "Requirement already satisfied: jsonpatch<2.0,>=1.33 in /usr/local/lib/python3.10/dist-packages (from langchain) (1.33)\n",
            "Requirement already satisfied: langchain-community<0.1,>=0.0.29 in /usr/local/lib/python3.10/dist-packages (from langchain) (0.0.29)\n",
            "Requirement already satisfied: langchain-core<0.2.0,>=0.1.33 in /usr/local/lib/python3.10/dist-packages (from langchain) (0.1.35)\n",
            "Collecting langchain-text-splitters<0.1,>=0.0.1 (from langchain)\n",
            "  Downloading langchain_text_splitters-0.0.1-py3-none-any.whl (21 kB)\n",
            "Requirement already satisfied: langsmith<0.2.0,>=0.1.17 in /usr/local/lib/python3.10/dist-packages (from langchain) (0.1.36)\n",
            "Requirement already satisfied: numpy<2,>=1 in /usr/local/lib/python3.10/dist-packages (from langchain) (1.25.2)\n",
            "Requirement already satisfied: pydantic<3,>=1 in /usr/local/lib/python3.10/dist-packages (from langchain) (2.6.4)\n",
            "Requirement already satisfied: requests<3,>=2 in /usr/local/lib/python3.10/dist-packages (from langchain) (2.31.0)\n",
            "Requirement already satisfied: tenacity<9.0.0,>=8.1.0 in /usr/local/lib/python3.10/dist-packages (from langchain) (8.2.3)\n",
            "Requirement already satisfied: orjson>=3.8.2 in /usr/local/lib/python3.10/dist-packages (from docarray) (3.10.0)\n",
            "Requirement already satisfied: rich>=13.1.0 in /usr/local/lib/python3.10/dist-packages (from docarray) (13.7.1)\n",
            "Collecting types-requests>=2.28.11.6 (from docarray)\n",
            "  Downloading types_requests-2.31.0.20240311-py3-none-any.whl (14 kB)\n",
            "Requirement already satisfied: typing-inspect>=0.8.0 in /usr/local/lib/python3.10/dist-packages (from docarray) (0.9.0)\n",
            "Requirement already satisfied: regex>=2022.1.18 in /usr/local/lib/python3.10/dist-packages (from tiktoken) (2023.12.25)\n",
            "Requirement already satisfied: aiosignal>=1.1.2 in /usr/local/lib/python3.10/dist-packages (from aiohttp<4.0.0,>=3.8.3->langchain) (1.3.1)\n",
            "Requirement already satisfied: attrs>=17.3.0 in /usr/local/lib/python3.10/dist-packages (from aiohttp<4.0.0,>=3.8.3->langchain) (23.2.0)\n",
            "Requirement already satisfied: frozenlist>=1.1.1 in /usr/local/lib/python3.10/dist-packages (from aiohttp<4.0.0,>=3.8.3->langchain) (1.4.1)\n",
            "Requirement already satisfied: multidict<7.0,>=4.5 in /usr/local/lib/python3.10/dist-packages (from aiohttp<4.0.0,>=3.8.3->langchain) (6.0.5)\n",
            "Requirement already satisfied: yarl<2.0,>=1.0 in /usr/local/lib/python3.10/dist-packages (from aiohttp<4.0.0,>=3.8.3->langchain) (1.9.4)\n",
            "Requirement already satisfied: marshmallow<4.0.0,>=3.18.0 in /usr/local/lib/python3.10/dist-packages (from dataclasses-json<0.7,>=0.5.7->langchain) (3.21.1)\n",
            "Requirement already satisfied: jsonpointer>=1.9 in /usr/local/lib/python3.10/dist-packages (from jsonpatch<2.0,>=1.33->langchain) (2.4)\n",
            "Requirement already satisfied: packaging<24.0,>=23.2 in /usr/local/lib/python3.10/dist-packages (from langchain-core<0.2.0,>=0.1.33->langchain) (23.2)\n",
            "Requirement already satisfied: annotated-types>=0.4.0 in /usr/local/lib/python3.10/dist-packages (from pydantic<3,>=1->langchain) (0.6.0)\n",
            "Requirement already satisfied: pydantic-core==2.16.3 in /usr/local/lib/python3.10/dist-packages (from pydantic<3,>=1->langchain) (2.16.3)\n",
            "Requirement already satisfied: typing-extensions>=4.6.1 in /usr/local/lib/python3.10/dist-packages (from pydantic<3,>=1->langchain) (4.10.0)\n",
            "Requirement already satisfied: charset-normalizer<4,>=2 in /usr/local/lib/python3.10/dist-packages (from requests<3,>=2->langchain) (3.3.2)\n",
            "Requirement already satisfied: idna<4,>=2.5 in /usr/local/lib/python3.10/dist-packages (from requests<3,>=2->langchain) (3.6)\n",
            "Requirement already satisfied: urllib3<3,>=1.21.1 in /usr/local/lib/python3.10/dist-packages (from requests<3,>=2->langchain) (2.0.7)\n",
            "Requirement already satisfied: certifi>=2017.4.17 in /usr/local/lib/python3.10/dist-packages (from requests<3,>=2->langchain) (2024.2.2)\n",
            "Requirement already satisfied: markdown-it-py>=2.2.0 in /usr/local/lib/python3.10/dist-packages (from rich>=13.1.0->docarray) (3.0.0)\n",
            "Requirement already satisfied: pygments<3.0.0,>=2.13.0 in /usr/local/lib/python3.10/dist-packages (from rich>=13.1.0->docarray) (2.16.1)\n",
            "Requirement already satisfied: greenlet!=0.4.17 in /usr/local/lib/python3.10/dist-packages (from SQLAlchemy<3,>=1.4->langchain) (3.0.3)\n",
            "Requirement already satisfied: mypy-extensions>=0.3.0 in /usr/local/lib/python3.10/dist-packages (from typing-inspect>=0.8.0->docarray) (1.0.0)\n",
            "Requirement already satisfied: mdurl~=0.1 in /usr/local/lib/python3.10/dist-packages (from markdown-it-py>=2.2.0->rich>=13.1.0->docarray) (0.1.2)\n",
            "Installing collected packages: types-requests, docarray, langchain-text-splitters, langchain\n",
            "Successfully installed docarray-0.40.0 langchain-0.1.13 langchain-text-splitters-0.0.1 types-requests-2.31.0.20240311\n"
          ]
        }
      ]
    },
    {
      "cell_type": "code",
      "source": [
        "from langchain_community.vectorstores import DocArrayInMemorySearch\n",
        "from langchain_core.output_parsers import StrOutputParser\n",
        "from langchain_core.prompts import ChatPromptTemplate\n",
        "from langchain_core.runnables import RunnableParallel, RunnablePassthrough\n",
        "from langchain_openai import ChatOpenAI, OpenAIEmbeddings\n"
      ],
      "metadata": {
        "id": "OYytzAuECOuf"
      },
      "execution_count": 30,
      "outputs": []
    },
    {
      "cell_type": "code",
      "source": [
        "model=\"gpt-3.5-turbo-instruct\", openai_api_key=my_secret_data"
      ],
      "metadata": {
        "id": "ENQ1NynRD_9Q"
      },
      "execution_count": null,
      "outputs": []
    },
    {
      "cell_type": "code",
      "source": [
        "my_secret_data = userdata.get(\"OPENAI_API_KEY\")"
      ],
      "metadata": {
        "id": "coWbV2ShE424"
      },
      "execution_count": 34,
      "outputs": []
    },
    {
      "cell_type": "code",
      "source": [
        "from tempfile import template\n",
        "vectorstore=DocArrayInMemorySearch.from_texts(\n",
        "    ['Roman Reigns won the last Wrestlemania against Cody Rhodes', 'Cody won his second Royal Rumble in a row and he will fight Roman again this Wrestlemania', 'Rock versus Cody will also be a good match-up'],\n",
        "     embedding=OpenAIEmbeddings(openai_api_key=my_secret_data),\n",
        "\n",
        ")\n",
        "retriever = vectorstore.as_retriever()\n",
        "template = \"\"\"Answer the question based only on the following context:\n",
        "{context}\n",
        "\n",
        "Question: {question}\n",
        "\"\"\"\n",
        "\n",
        "prompt=ChatPromptTemplate.from_template(template)\n",
        "model=ChatOpenAI(model=\"gpt-3.5-turbo\", openai_api_key=my_secret_data)\n",
        "setup_and_retrieval =RunnableParallel(\n",
        "    {'context': retriever, \"question\": RunnablePassthrough()}\n",
        ")\n",
        "chain=setup_and_retrieval|prompt|model|output_parser\n",
        "chain.invoke(\"Who will fight Roman Reigns at ?\")"
      ],
      "metadata": {
        "colab": {
          "base_uri": "https://localhost:8080/",
          "height": 35
        },
        "id": "FEjVKc0xClH6",
        "outputId": "0398bd90-d7fc-4c6d-d3b1-0ce901ae8bf1"
      },
      "execution_count": 44,
      "outputs": [
        {
          "output_type": "execute_result",
          "data": {
            "text/plain": [
              "'Cody Rhodes'"
            ],
            "application/vnd.google.colaboratory.intrinsic+json": {
              "type": "string"
            }
          },
          "metadata": {},
          "execution_count": 44
        }
      ]
    },
    {
      "cell_type": "markdown",
      "source": [
        "# Complete Flowchart\n",
        "1. The first steps create a RunnableParallel object with two entries. The first entry, context will include the document results fetched by the retriever. The second entry, question will contain the user’s original question. To pass on the question, we use RunnablePassthrough to copy this entry.\n",
        "\n",
        "2. Feed the dictionary from the step above to the prompt component. It then takes the user input which is question as well as the retrieved document which is context to construct a prompt and output a PromptValue.\n",
        "3. The model component takes the generated prompt, and passes into the OpenAI LLM model for evaluation. The generated output from the model is a ChatMessage object.\n",
        "4. Finally, the output_parser component takes in a ChatMessage, and transforms this into a Python string, which is returned from the invoke method.\n"
      ],
      "metadata": {
        "id": "NUkazR_bHZQu"
      }
    },
    {
      "cell_type": "markdown",
      "source": [
        "![image.png](data:image/png;base64,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)"
      ],
      "metadata": {
        "id": "TlKiHSz-HmOE"
      }
    }
  ]
}